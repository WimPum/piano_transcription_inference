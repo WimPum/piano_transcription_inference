{
  "cells": [
    {
      "cell_type": "markdown",
      "metadata": {
        "id": "k43ASej1dc5N"
      },
      "source": [
        "# Install piano_transcription_inference"
      ]
    },
    {
      "cell_type": "code",
      "execution_count": null,
      "metadata": {
        "id": "wxRVwNOldKpc"
      },
      "outputs": [],
      "source": [
        "!apt install ffmpeg wget"
      ]
    },
    {
      "cell_type": "code",
      "execution_count": null,
      "metadata": {
        "id": "mXoOV0fOdOFa"
      },
      "outputs": [],
      "source": [
        "pip install piano_transcription_inference"
      ]
    },
    {
      "cell_type": "code",
      "execution_count": null,
      "metadata": {},
      "outputs": [],
      "source": [
        "pip install Librosa==0.9.2"
      ]
    },
    {
      "cell_type": "code",
      "execution_count": null,
      "metadata": {
        "id": "5kw5naQPleBr"
      },
      "outputs": [],
      "source": [
        "from IPython.display import Audio"
      ]
    },
    {
      "cell_type": "markdown",
      "metadata": {
        "id": "GgByRF3ylK_S"
      },
      "source": [
        "# Transcribe using code"
      ]
    },
    {
      "cell_type": "code",
      "execution_count": null,
      "metadata": {
        "id": "_eVSRSRVdWtj"
      },
      "outputs": [],
      "source": [
        "from piano_transcription_inference import PianoTranscription, sample_rate, load_audio\n",
        "\n",
        "def transcribe(audio_path, output_midi_path):\n",
        "    # Load audio\n",
        "    audio, _ = load_audio(audio_path, sr=sample_rate, mono=True)\n",
        "\n",
        "    # Transcriptor\n",
        "    transcriptor = PianoTranscription(device='cuda', checkpoint_path=None)\n",
        "\n",
        "    # Transcribe and write out to MIDI file\n",
        "    transcriptor.transcribe(audio, output_midi_path)"
      ]
    },
    {
      "cell_type": "code",
      "execution_count": null,
      "metadata": {
        "id": "aWNnttDblUGE"
      },
      "outputs": [],
      "source": [
        "!wget https://github.com/qiuqiangkong/piano_transcription_inference/raw/master/resources/cut_liszt.mp3"
      ]
    },
    {
      "cell_type": "code",
      "execution_count": null,
      "metadata": {
        "id": "0h6pqv2Ulcc_"
      },
      "outputs": [],
      "source": [
        "Audio('cut_liszt.mp3')\n",
        "# contentsに移動しなさい"
      ]
    },
    {
      "cell_type": "code",
      "execution_count": null,
      "metadata": {
        "id": "fde2pTIAlkE0"
      },
      "outputs": [],
      "source": [
        "transcribe('cut_liszt.mp3', 'cut_liszt.mid')"
      ]
    },
    {
      "cell_type": "markdown",
      "metadata": {
        "id": "JZ33qrGZuCVS"
      },
      "source": [
        "# Render midi plot"
      ]
    },
    {
      "cell_type": "code",
      "execution_count": null,
      "metadata": {
        "id": "RIpZKNY3uEth"
      },
      "outputs": [],
      "source": [
        "!apt install git"
      ]
    },
    {
      "cell_type": "code",
      "execution_count": null,
      "metadata": {
        "id": "LUtmwKrWsVoA"
      },
      "outputs": [],
      "source": [
        "!git clone https://github.com/bytedance/piano_transcription.git"
      ]
    },
    {
      "cell_type": "code",
      "execution_count": null,
      "metadata": {
        "id": "s3GHmJ5ZsWoR"
      },
      "outputs": [],
      "source": [
        "pip install -r piano_transcription/requirements.txt"
      ]
    },
    {
      "cell_type": "code",
      "execution_count": null,
      "metadata": {
        "id": "fsgEKGE_vKgn"
      },
      "outputs": [],
      "source": [
        "!mkdir results"
      ]
    },
    {
      "cell_type": "code",
      "execution_count": null,
      "metadata": {
        "id": "dQHtquD3rLEI"
      },
      "outputs": [],
      "source": [
        "import sys\n",
        "sys.path.append('piano_transcription/utils')\n",
        "sys.path.append('piano_transcription/pytorch')\n",
        "from collections import namedtuple\n",
        "\n",
        "plot_args = namedtuple('PlotArgs', ['audio_path', 'midi_path'])\n",
        "\n",
        "from plot_for_paper import plot_midi\n",
        "plot_midi(plot_args('cut_liszt.mp3', 'cut_liszt.mid'))"
      ]
    }
  ],
  "metadata": {
    "accelerator": "GPU",
    "colab": {
      "name": "Piano transcription inference",
      "provenance": []
    },
    "kernelspec": {
      "display_name": "Python 3",
      "name": "python3"
    }
  },
  "nbformat": 4,
  "nbformat_minor": 0
}
